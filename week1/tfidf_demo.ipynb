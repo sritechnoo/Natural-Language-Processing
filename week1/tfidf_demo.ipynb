{
  "nbformat": 4,
  "nbformat_minor": 0,
  "metadata": {
    "colab": {
      "name": "tfidf_demo.ipynb",
      "version": "0.3.2",
      "provenance": [],
      "include_colab_link": true
    },
    "language_info": {
      "codemirror_mode": {
        "name": "ipython",
        "version": 2
      },
      "file_extension": ".py",
      "mimetype": "text/x-python",
      "name": "python",
      "nbconvert_exporter": "python",
      "pygments_lexer": "ipython2",
      "version": "2.7.14"
    },
    "kernelspec": {
      "display_name": "Python 2",
      "language": "python",
      "name": "python2"
    }
  },
  "cells": [
    {
      "cell_type": "markdown",
      "metadata": {
        "id": "view-in-github",
        "colab_type": "text"
      },
      "source": [
        "<a href=\"https://colab.research.google.com/github/sritechnoo/Natural-Language-Processing/blob/master/week1/tfidf_demo.ipynb\" target=\"_parent\"><img src=\"https://colab.research.google.com/assets/colab-badge.svg\" alt=\"Open In Colab\"/></a>"
      ]
    },
    {
      "cell_type": "markdown",
      "metadata": {
        "id": "z03Rx1PN9YEy",
        "colab_type": "text"
      },
      "source": [
        "# Tf-Idf example"
      ]
    },
    {
      "cell_type": "code",
      "metadata": {
        "id": "FSZ7kEgWcDkq",
        "colab_type": "code",
        "colab": {
          "base_uri": "https://localhost:8080/",
          "height": 129
        },
        "outputId": "a73f16f5-6e3f-4079-873c-bd68c2e3557b"
      },
      "source": [
        "texts =\n",
        "[\n",
        "    \"it is going to rain today\", \n",
        "    \"today i am not going outsid\", \n",
        "    \"i am going to watch the season premiere\", \n",
        "]"
      ],
      "execution_count": 20,
      "outputs": [
        {
          "output_type": "error",
          "ename": "SyntaxError",
          "evalue": "ignored",
          "traceback": [
            "\u001b[0;36m  File \u001b[0;32m\"<ipython-input-20-0a963ccd3832>\"\u001b[0;36m, line \u001b[0;32m1\u001b[0m\n\u001b[0;31m    texts =\u001b[0m\n\u001b[0m           ^\u001b[0m\n\u001b[0;31mSyntaxError\u001b[0m\u001b[0;31m:\u001b[0m invalid syntax\n"
          ]
        }
      ]
    },
    {
      "cell_type": "code",
      "metadata": {
        "id": "L-kzBxqu9YE2",
        "colab_type": "code",
        "colab": {}
      },
      "source": [
        "from sklearn.feature_extraction.text import TfidfVectorizer\n",
        "import pandas as pd\n",
        "\n"
      ],
      "execution_count": 0,
      "outputs": []
    },
    {
      "cell_type": "code",
      "metadata": {
        "id": "5Ahz2ld8-Ewh",
        "colab_type": "code",
        "colab": {}
      },
      "source": [
        "# using default tokenizer in TfidfVectorizer\n",
        "tfidf = TfidfVectorizer()\n",
        "features = tfidf.fit_transform(texts)\n"
      ],
      "execution_count": 0,
      "outputs": []
    },
    {
      "cell_type": "code",
      "metadata": {
        "id": "fCWr9Ic1cHiS",
        "colab_type": "code",
        "colab": {
          "base_uri": "https://localhost:8080/",
          "height": 142
        },
        "outputId": "6c837392-f338-4b24-f726-00fc0dd09db7"
      },
      "source": [
        "pd.DataFrame(\n",
        "    features.todense(),\n",
        "    columns=tfidf.get_feature_names()\n",
        ")"
      ],
      "execution_count": 23,
      "outputs": [
        {
          "output_type": "execute_result",
          "data": {
            "text/html": [
              "<div>\n",
              "<style scoped>\n",
              "    .dataframe tbody tr th:only-of-type {\n",
              "        vertical-align: middle;\n",
              "    }\n",
              "\n",
              "    .dataframe tbody tr th {\n",
              "        vertical-align: top;\n",
              "    }\n",
              "\n",
              "    .dataframe thead th {\n",
              "        text-align: right;\n",
              "    }\n",
              "</style>\n",
              "<table border=\"1\" class=\"dataframe\">\n",
              "  <thead>\n",
              "    <tr style=\"text-align: right;\">\n",
              "      <th></th>\n",
              "      <th>am</th>\n",
              "      <th>going</th>\n",
              "      <th>is</th>\n",
              "      <th>it</th>\n",
              "      <th>not</th>\n",
              "      <th>outsid</th>\n",
              "      <th>premiere</th>\n",
              "      <th>rain</th>\n",
              "      <th>season</th>\n",
              "      <th>the</th>\n",
              "      <th>to</th>\n",
              "      <th>today</th>\n",
              "      <th>watch</th>\n",
              "    </tr>\n",
              "  </thead>\n",
              "  <tbody>\n",
              "    <tr>\n",
              "      <th>0</th>\n",
              "      <td>0.000000</td>\n",
              "      <td>0.278245</td>\n",
              "      <td>0.47111</td>\n",
              "      <td>0.47111</td>\n",
              "      <td>0.000000</td>\n",
              "      <td>0.000000</td>\n",
              "      <td>0.000000</td>\n",
              "      <td>0.47111</td>\n",
              "      <td>0.000000</td>\n",
              "      <td>0.000000</td>\n",
              "      <td>0.358291</td>\n",
              "      <td>0.358291</td>\n",
              "      <td>0.000000</td>\n",
              "    </tr>\n",
              "    <tr>\n",
              "      <th>1</th>\n",
              "      <td>0.406192</td>\n",
              "      <td>0.315444</td>\n",
              "      <td>0.00000</td>\n",
              "      <td>0.00000</td>\n",
              "      <td>0.534093</td>\n",
              "      <td>0.534093</td>\n",
              "      <td>0.000000</td>\n",
              "      <td>0.00000</td>\n",
              "      <td>0.000000</td>\n",
              "      <td>0.000000</td>\n",
              "      <td>0.000000</td>\n",
              "      <td>0.406192</td>\n",
              "      <td>0.000000</td>\n",
              "    </tr>\n",
              "    <tr>\n",
              "      <th>2</th>\n",
              "      <td>0.324124</td>\n",
              "      <td>0.251711</td>\n",
              "      <td>0.00000</td>\n",
              "      <td>0.00000</td>\n",
              "      <td>0.000000</td>\n",
              "      <td>0.000000</td>\n",
              "      <td>0.426184</td>\n",
              "      <td>0.00000</td>\n",
              "      <td>0.426184</td>\n",
              "      <td>0.426184</td>\n",
              "      <td>0.324124</td>\n",
              "      <td>0.000000</td>\n",
              "      <td>0.426184</td>\n",
              "    </tr>\n",
              "  </tbody>\n",
              "</table>\n",
              "</div>"
            ],
            "text/plain": [
              "         am     going       is       it  ...       the        to     today     watch\n",
              "0  0.000000  0.278245  0.47111  0.47111  ...  0.000000  0.358291  0.358291  0.000000\n",
              "1  0.406192  0.315444  0.00000  0.00000  ...  0.000000  0.000000  0.406192  0.000000\n",
              "2  0.324124  0.251711  0.00000  0.00000  ...  0.426184  0.324124  0.000000  0.426184\n",
              "\n",
              "[3 rows x 13 columns]"
            ]
          },
          "metadata": {
            "tags": []
          },
          "execution_count": 23
        }
      ]
    },
    {
      "cell_type": "code",
      "metadata": {
        "id": "RVj4aw6F9Zmk",
        "colab_type": "code",
        "outputId": "809cdcb4-113e-45e5-e208-ef8b3fa62222",
        "colab": {
          "base_uri": "https://localhost:8080/",
          "height": 136
        }
      },
      "source": [
        "tfidf"
      ],
      "execution_count": 24,
      "outputs": [
        {
          "output_type": "execute_result",
          "data": {
            "text/plain": [
              "TfidfVectorizer(analyzer=u'word', binary=False, decode_error=u'strict',\n",
              "        dtype=<type 'numpy.float64'>, encoding=u'utf-8', input=u'content',\n",
              "        lowercase=True, max_df=1.0, max_features=None, min_df=1,\n",
              "        ngram_range=(1, 1), norm=u'l2', preprocessor=None, smooth_idf=True,\n",
              "        stop_words=None, strip_accents=None, sublinear_tf=False,\n",
              "        token_pattern=u'(?u)\\\\b\\\\w\\\\w+\\\\b', tokenizer=None, use_idf=True,\n",
              "        vocabulary=None)"
            ]
          },
          "metadata": {
            "tags": []
          },
          "execution_count": 24
        }
      ]
    },
    {
      "cell_type": "code",
      "metadata": {
        "id": "fRYSZ_MT9nIq",
        "colab_type": "code",
        "outputId": "79184712-8854-4f57-ce7a-f24014c06bcd",
        "colab": {
          "base_uri": "https://localhost:8080/",
          "height": 34
        }
      },
      "source": [
        "type(tfidf)"
      ],
      "execution_count": 25,
      "outputs": [
        {
          "output_type": "execute_result",
          "data": {
            "text/plain": [
              "sklearn.feature_extraction.text.TfidfVectorizer"
            ]
          },
          "metadata": {
            "tags": []
          },
          "execution_count": 25
        }
      ]
    },
    {
      "cell_type": "code",
      "metadata": {
        "id": "bc40dMzO9ody",
        "colab_type": "code",
        "outputId": "13dc3450-9242-49ce-d69a-7c77e88bda11",
        "colab": {
          "base_uri": "https://localhost:8080/",
          "height": 54
        }
      },
      "source": [
        "str(tfidf)"
      ],
      "execution_count": 18,
      "outputs": [
        {
          "output_type": "execute_result",
          "data": {
            "text/plain": [
              "\"TfidfVectorizer(analyzer=u'word', binary=False, decode_error=u'strict',\\n        dtype=<type 'numpy.float64'>, encoding=u'utf-8', input=u'content',\\n        lowercase=True, max_df=0.6, max_features=None, min_df=2,\\n        ngram_range=(1, 10), norm=u'l2', preprocessor=None,\\n        smooth_idf=True, stop_words=None, strip_accents=None,\\n        sublinear_tf=False, token_pattern=u'(?u)\\\\\\\\b\\\\\\\\w\\\\\\\\w+\\\\\\\\b',\\n        tokenizer=None, use_idf=True, vocabulary=None)\""
            ]
          },
          "metadata": {
            "tags": []
          },
          "execution_count": 18
        }
      ]
    },
    {
      "cell_type": "code",
      "metadata": {
        "id": "MZ0hn2yK90AK",
        "colab_type": "code",
        "colab": {}
      },
      "source": [
        ""
      ],
      "execution_count": 0,
      "outputs": []
    }
  ]
}